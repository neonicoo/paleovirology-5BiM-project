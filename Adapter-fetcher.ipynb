{
 "cells": [
  {
   "cell_type": "code",
   "execution_count": 1,
   "metadata": {},
   "outputs": [],
   "source": [
    "from pathlib import Path\n",
    "import pandas as pd\n",
    "import os"
   ]
  },
  {
   "cell_type": "code",
   "execution_count": 2,
   "metadata": {},
   "outputs": [],
   "source": [
    "p = Path(\"./VANA-RAW-Reads/\")"
   ]
  },
  {
   "cell_type": "code",
   "execution_count": 3,
   "metadata": {},
   "outputs": [],
   "source": [
    "raws = []\n",
    "raw_dir = \"./VANA-RAW-Reads/\"\n",
    "for r in os.listdir(Path(raw_dir)):\n",
    "    raws.append(r)"
   ]
  },
  {
   "cell_type": "code",
   "execution_count": 4,
   "metadata": {},
   "outputs": [
    {
     "data": {
      "text/html": [
       "<div>\n",
       "<style scoped>\n",
       "    .dataframe tbody tr th:only-of-type {\n",
       "        vertical-align: middle;\n",
       "    }\n",
       "\n",
       "    .dataframe tbody tr th {\n",
       "        vertical-align: top;\n",
       "    }\n",
       "\n",
       "    .dataframe thead th {\n",
       "        text-align: right;\n",
       "    }\n",
       "</style>\n",
       "<table border=\"1\" class=\"dataframe\">\n",
       "  <thead>\n",
       "    <tr style=\"text-align: right;\">\n",
       "      <th></th>\n",
       "      <th>Index</th>\n",
       "      <th>Adapter</th>\n",
       "    </tr>\n",
       "  </thead>\n",
       "  <tbody>\n",
       "    <tr>\n",
       "      <th>0</th>\n",
       "      <td>A01</td>\n",
       "      <td>TAGTCCGCTTCGTCGTACACCGC</td>\n",
       "    </tr>\n",
       "    <tr>\n",
       "      <th>1</th>\n",
       "      <td>A02</td>\n",
       "      <td>GGCTGTCTTCGTCCGGACACATC</td>\n",
       "    </tr>\n",
       "    <tr>\n",
       "      <th>2</th>\n",
       "      <td>A03</td>\n",
       "      <td>GCAAGATGTGTGACCGACACCGT</td>\n",
       "    </tr>\n",
       "    <tr>\n",
       "      <th>3</th>\n",
       "      <td>A04</td>\n",
       "      <td>GAATCGCCAGGATACGCGTACGG</td>\n",
       "    </tr>\n",
       "    <tr>\n",
       "      <th>4</th>\n",
       "      <td>A05</td>\n",
       "      <td>CGTAGAAGACCACACGTGTGCT</td>\n",
       "    </tr>\n",
       "  </tbody>\n",
       "</table>\n",
       "</div>"
      ],
      "text/plain": [
       "  Index                  Adapter\n",
       "0   A01  TAGTCCGCTTCGTCGTACACCGC\n",
       "1   A02  GGCTGTCTTCGTCCGGACACATC\n",
       "2   A03  GCAAGATGTGTGACCGACACCGT\n",
       "3   A04  GAATCGCCAGGATACGCGTACGG\n",
       "4   A05   CGTAGAAGACCACACGTGTGCT"
      ]
     },
     "execution_count": 4,
     "metadata": {},
     "output_type": "execute_result"
    }
   ],
   "source": [
    "adapters_index = pd.read_table(\"./96_MID_BO1.txt\", header = None)\n",
    "adapters_index.columns = [\"Index\", \"Adapter\"]\n",
    "adapters_index = adapters_index.drop([0])\n",
    "adapters_index.index = range(len(adapters_index))\n",
    "adapters_index.head()"
   ]
  },
  {
   "cell_type": "code",
   "execution_count": 5,
   "metadata": {},
   "outputs": [],
   "source": [
    "fastq_adapters = {}\n",
    "for fastq in raws :\n",
    "    fastq_adapters[fastq] = fastq_adapters.get(str(fastq), None)"
   ]
  },
  {
   "cell_type": "code",
   "execution_count": 15,
   "metadata": {},
   "outputs": [],
   "source": [
    "for fastq in fastq_adapters.keys():\n",
    "    index = fastq.split(\"_\")[-1].split('.')[0]\n",
    "    adapter = adapters_index.loc[adapters_index['Index'] == index]['Adapter'].values[0]\n",
    "    fastq_adapters[fastq] = adapter"
   ]
  },
  {
   "cell_type": "code",
   "execution_count": 14,
   "metadata": {},
   "outputs": [
    {
     "data": {
      "text/plain": [
       "{'BO1-3_R1.fastq.gz_BO1-3_F01.fastq.gz': 'TGAGGAGTGTGGCCGGCTACTAC',\n",
       " 'BO1-3_R2.fastq.gz_BO1-3_F01.fastq.gz': 'TGAGGAGTGTGGCCGGCTACTAC',\n",
       " 'BO1-4_R2.fastq.gz_BO1-4_G09.fastq.gz': 'ATCTAAGGACAGCACGTCCGCAA',\n",
       " 'BO1-4_R2.fastq.gz_BO1-4_E09.fastq.gz': 'AGTTGTTGTACCTATGCGCCGA',\n",
       " 'BO1-1_R1.fastq.gz_BO1-1_G09.fastq.gz': 'ATCTAAGGACAGCACGTCCGCAA',\n",
       " 'BO1-4_R1.fastq.gz_BO1-4_E09.fastq.gz': 'AGTTGTTGTACCTATGCGCCGA',\n",
       " 'BO1-1_R2.fastq.gz_BO1-1_G09.fastq.gz': 'ATCTAAGGACAGCACGTCCGCAA',\n",
       " 'BO1-1_R2.fastq.gz_BO1-1_A11.fastq.gz': 'AATACAGCCACCAATGGTCCGGG',\n",
       " 'BO1-3_R2.fastq.gz_BO1-3_C02.fastq.gz': 'GGTTCCTTATCACCACACCTCGC',\n",
       " 'BO1-3_R2.fastq.gz_BO1-3_H07.fastq.gz': 'CCGGAATGCCTCCCGCTGTACCA',\n",
       " 'BO1-1_R1.fastq.gz_BO1-1_A11.fastq.gz': 'AATACAGCCACCAATGGTCCGGG',\n",
       " 'BO1-3_R1.fastq.gz_BO1-3_H07.fastq.gz': 'CCGGAATGCCTCCCGCTGTACCA',\n",
       " 'BO1-4_R1.fastq.gz_BO1-4_G09.fastq.gz': 'ATCTAAGGACAGCACGTCCGCAA',\n",
       " 'BO1-4_R1.fastq.gz_BO1-4_F08.fastq.gz': 'CAACTGCTACCGACGCTAGGTCA',\n",
       " 'BO1-3_R1.fastq.gz_BO1-3_C02.fastq.gz': 'GGTTCCTTATCACCACACCTCGC',\n",
       " 'BO1-4_R2.fastq.gz_BO1-4_F08.fastq.gz': 'CAACTGCTACCGACGCTAGGTCA'}"
      ]
     },
     "execution_count": 14,
     "metadata": {},
     "output_type": "execute_result"
    }
   ],
   "source": [
    "fastq_adapters"
   ]
  },
  {
   "cell_type": "code",
   "execution_count": null,
   "metadata": {},
   "outputs": [],
   "source": []
  },
  {
   "cell_type": "code",
   "execution_count": null,
   "metadata": {},
   "outputs": [],
   "source": []
  },
  {
   "cell_type": "code",
   "execution_count": null,
   "metadata": {},
   "outputs": [],
   "source": []
  },
  {
   "cell_type": "code",
   "execution_count": null,
   "metadata": {},
   "outputs": [],
   "source": []
  },
  {
   "cell_type": "code",
   "execution_count": null,
   "metadata": {},
   "outputs": [],
   "source": []
  }
 ],
 "metadata": {
  "kernelspec": {
   "display_name": "Python 3",
   "language": "python",
   "name": "python3"
  },
  "language_info": {
   "codemirror_mode": {
    "name": "ipython",
    "version": 3
   },
   "file_extension": ".py",
   "mimetype": "text/x-python",
   "name": "python",
   "nbconvert_exporter": "python",
   "pygments_lexer": "ipython3",
   "version": "3.7.3"
  }
 },
 "nbformat": 4,
 "nbformat_minor": 2
}
